{
 "cells": [
  {
   "cell_type": "code",
   "execution_count": 5,
   "id": "9ad60d61",
   "metadata": {},
   "outputs": [],
   "source": [
    "from langchain.document_loaders import PyPDFLoader\n",
    "from langchain.vectorstores import Chroma\n",
    "\n",
    "from langchain_community.embeddings import HuggingFaceBgeEmbeddings\n",
    "\n",
    "from langchain.text_splitter import RecursiveCharacterTextSplitter\n",
    "\n",
    "from langchain_community.llms import HuggingFaceHub\n",
    "\n",
    "\n",
    "from langchain.chains import RetrievalQA\n",
    "\n",
    "loaders = [\n",
    "    PyPDFLoader(\"data/cocofoods.pdf\"), \n",
    "]\n",
    "\n",
    "docs = []\n",
    "chunk_size=150\n",
    "chunk_overlap = 50\n",
    "\n",
    "for loader in loaders:\n",
    "    docs.extend(loader.load())\n",
    "\n",
    "model_name = 'BAAI/bge-small-en'\n",
    "model_kwargs = {'device':'cpu'}\n",
    "encode_kwargs = {'normalize_embeddings':True}\n",
    "\n",
    "\n",
    "r_splitter = RecursiveCharacterTextSplitter(\n",
    "    chunk_size=chunk_size,\n",
    "    chunk_overlap=chunk_overlap\n",
    "    )\n",
    "\n",
    "embedding = HuggingFaceBgeEmbeddings(\n",
    "    model_name = model_name,\n",
    "    model_kwargs = model_kwargs,\n",
    "    encode_kwargs = encode_kwargs\n",
    "    )\n",
    "\n",
    "llm = HuggingFaceHub(\n",
    "    repo_id = 'google/flan-t5-xxl',\n",
    "    model_kwargs = {'temperature':0,'max_length':500},\n",
    "    huggingfacehub_api_token = \"\"\n",
    "    )\n",
    "\n",
    "splits = r_splitter.split_documents(docs)\n"
   ]
  },
  {
   "cell_type": "code",
   "execution_count": 6,
   "id": "bddbdc6c",
   "metadata": {},
   "outputs": [],
   "source": [
    "def ans_this(question,splits,embedding,llm):\n",
    "    persist_directory = 'docs/chroma'\n",
    "\n",
    "    vectordb = Chroma.from_documents(\n",
    "        documents = splits,\n",
    "        embedding = embedding,\n",
    "        persist_directory = persist_directory)\n",
    "\n",
    "    docs = vectordb.similarity_search(f'{question}',k=3)\n",
    "    \n",
    "    qa_chain = RetrievalQA.from_chain_type(\n",
    "        llm,\n",
    "        retriever = vectordb.as_retriever())\n",
    "\n",
    "    result = qa_chain({'query':f'{question}'})\n",
    "\n",
    "    return result['result']"
   ]
  },
  {
   "cell_type": "code",
   "execution_count": 12,
   "id": "4e49f007",
   "metadata": {
    "scrolled": true
   },
   "outputs": [
    {
     "name": "stdout",
     "output_type": "stream",
     "text": [
      "CHAT BOT: Hi ask me any question about the uploaded document\n",
      "\n",
      "USER:What is name of restaurant\n",
      "CHAT BOT:  CocoFoods \n",
      "\n",
      "USER:Who is the owner of restaurant\n",
      "CHAT BOT:  Harris Morsion \n",
      "\n",
      "USER:What are the best dishes of the restaurant\n",
      "CHAT BOT:  Oreo Fudge Cake \n",
      "\n",
      "USER:What is the location of restaurant\n",
      "CHAT BOT:  I don't know \n",
      "\n",
      "USER:What is its location\n",
      "CHAT BOT:  455, Bekshire Wall Streets \n",
      "\n",
      "USER:what is the website of restaurant\n",
      "CHAT BOT:  cocofoods.com \n",
      "\n",
      "USER:\n"
     ]
    }
   ],
   "source": [
    "print(\"CHAT BOT: Hi ask me any question about the uploaded document\\n\")\n",
    "while(True):\n",
    "    \n",
    "    print(\"USER:\",end='')\n",
    "    question = input()\n",
    "    \n",
    "    if(question==''):\n",
    "        break\n",
    "    answer = ans_this(question,splits,embedding,llm)\n",
    "    \n",
    "    print(\"CHAT BOT: \",answer,'\\n')\n",
    "    \n",
    "    \n",
    "    #To exit press enter"
   ]
  },
  {
   "cell_type": "code",
   "execution_count": null,
   "id": "5ae96cdd",
   "metadata": {},
   "outputs": [],
   "source": []
  }
 ],
 "metadata": {
  "kernelspec": {
   "display_name": "Python 3 (ipykernel)",
   "language": "python",
   "name": "python3"
  },
  "language_info": {
   "codemirror_mode": {
    "name": "ipython",
    "version": 3
   },
   "file_extension": ".py",
   "mimetype": "text/x-python",
   "name": "python",
   "nbconvert_exporter": "python",
   "pygments_lexer": "ipython3",
   "version": "3.11.4"
  }
 },
 "nbformat": 4,
 "nbformat_minor": 5
}
