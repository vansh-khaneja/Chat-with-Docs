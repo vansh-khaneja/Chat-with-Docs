{
 "cells": [
  {
   "cell_type": "code",
   "execution_count": 28,
   "id": "58b86d3d",
   "metadata": {},
   "outputs": [],
   "source": [
    "from langchain.document_loaders import PyPDFLoader\n",
    "\n",
    "#loads the pdf files from local storage\n",
    "loaders = [\n",
    "    PyPDFLoader(\"C:/db/rest.pdf\"), \n",
    "]\n",
    "docs = []\n",
    "for loader in loaders:\n",
    "    docs.extend(loader.load())"
   ]
  },
  {
   "cell_type": "code",
   "execution_count": 29,
   "id": "018d48b8",
   "metadata": {},
   "outputs": [],
   "source": [
    "from langchain.text_splitter import RecursiveCharacterTextSplitter\n",
    "\n",
    "chunk_size=150\n",
    "chunk_overlap = 50\n",
    "\n",
    "#splits the document into small parts with a size equals to chunk_size\n",
    "r_splitter = RecursiveCharacterTextSplitter(\n",
    "    chunk_size=chunk_size,\n",
    "    chunk_overlap=chunk_overlap\n",
    "    )\n",
    "\n",
    "splits = r_splitter.split_documents(docs)"
   ]
  },
  {
   "cell_type": "code",
   "execution_count": 30,
   "id": "bc17d165",
   "metadata": {},
   "outputs": [],
   "source": [
    "from langchain_community.embeddings import HuggingFaceBgeEmbeddings\n",
    "\n",
    "model_name = 'BAAI/bge-small-en'\n",
    "model_kwargs = {'device':'cpu'}\n",
    "encode_kwargs = {'normalize_embeddings':True}\n",
    "\n",
    "#using hugging face embedding model for converting texts to vectors\n",
    "embedding = HuggingFaceBgeEmbeddings(\n",
    "    model_name = model_name,\n",
    "    model_kwargs = model_kwargs,\n",
    "    encode_kwargs = encode_kwargs\n",
    "    )"
   ]
  },
  {
   "cell_type": "code",
   "execution_count": 31,
   "id": "e9fcc722",
   "metadata": {},
   "outputs": [],
   "source": [
    "from langchain.vectorstores import Chroma\n",
    "\n",
    "persist_directory = 'docs/chroma'\n",
    "\n",
    "#using Chromadb as database to store the embedded vectors\n",
    "vectordb = Chroma.from_documents(\n",
    "    documents = splits,\n",
    "    embedding = embedding,\n",
    "    persist_directory = persist_directory\n",
    "    )\n",
    "\n",
    "docs = vectordb.similarity_search(\"what is the closing time\",k=3)"
   ]
  },
  {
   "cell_type": "code",
   "execution_count": 32,
   "id": "2ea10294",
   "metadata": {},
   "outputs": [],
   "source": [
    "from langchain_community.llms import HuggingFaceHub\n",
    "\n",
    "# Initializing LLM for understanding and analyzing the best answer\n",
    "llm = HuggingFaceHub(\n",
    "    repo_id = 'google/flan-t5-xxl',\n",
    "    model_kwargs = {'temperature':0.5,'max_length':500},\n",
    "    huggingfacehub_api_token = \"\"\n",
    "    )\n"
   ]
  },
  {
   "cell_type": "code",
   "execution_count": 33,
   "id": "edec9eb8",
   "metadata": {},
   "outputs": [],
   "source": [
    "from langchain.chains import RetrievalQA\n",
    "qa_chain = RetrievalQA.from_chain_type(\n",
    "    llm,\n",
    "    retriever = vectordb.as_retriever()\n",
    "    )"
   ]
  },
  {
   "cell_type": "code",
   "execution_count": 36,
   "id": "86bbc08e",
   "metadata": {},
   "outputs": [],
   "source": [
    "result = qa_chain({'query':\"what is the closing time\"})"
   ]
  },
  {
   "cell_type": "code",
   "execution_count": 37,
   "id": "ae63a09c",
   "metadata": {},
   "outputs": [
    {
     "data": {
      "text/plain": [
       "'9:00 AM'"
      ]
     },
     "execution_count": 37,
     "metadata": {},
     "output_type": "execute_result"
    }
   ],
   "source": [
    "result['result']"
   ]
  },
  {
   "cell_type": "code",
   "execution_count": null,
   "id": "f8efb7d9",
   "metadata": {},
   "outputs": [],
   "source": []
  },
  {
   "cell_type": "code",
   "execution_count": null,
   "id": "9fb49c23",
   "metadata": {},
   "outputs": [],
   "source": []
  }
 ],
 "metadata": {
  "kernelspec": {
   "display_name": "Python 3 (ipykernel)",
   "language": "python",
   "name": "python3"
  },
  "language_info": {
   "codemirror_mode": {
    "name": "ipython",
    "version": 3
   },
   "file_extension": ".py",
   "mimetype": "text/x-python",
   "name": "python",
   "nbconvert_exporter": "python",
   "pygments_lexer": "ipython3",
   "version": "3.11.4"
  }
 },
 "nbformat": 4,
 "nbformat_minor": 5
}
